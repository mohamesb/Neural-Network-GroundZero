{
 "cells": [
  {
   "cell_type": "markdown",
   "metadata": {},
   "source": [
    "# Neural Network From Scratch"
   ]
  },
  {
   "cell_type": "markdown",
   "metadata": {},
   "source": [
    "## Import libraries"
   ]
  },
  {
   "cell_type": "code",
   "execution_count": 14,
   "metadata": {},
   "outputs": [],
   "source": [
    "import numpy as np"
   ]
  },
  {
   "cell_type": "markdown",
   "metadata": {},
   "source": [
    "## Initialize the Neural Network"
   ]
  },
  {
   "cell_type": "code",
   "execution_count": 15,
   "metadata": {},
   "outputs": [],
   "source": [
    "class NeuralNetwork:\n",
    "    def _init_(self, input_size= 784, hidden_layers = [512,512], output_size=10):\n",
    "        self.input_size = input_size\n",
    "        self.hidden_layers = hidden_layers\n",
    "        self.outputsize = output_size\n",
    "        self.weights = []\n",
    "        self.bias = []\n",
    "\n",
    "        #Input to Hidden layers netowrk\n",
    "        self.weights.append(0.01 * np.random.rand(input_size, hidden_layers[0]))\n",
    "        self.bias.append(np.zeros((1, hidden_layers[0])))\n",
    "\n",
    "        #Hidden layers network\n",
    "        for i in range(len(hidden_layers)-1):\n",
    "            self.weights.append(hidden_layers[i], hidden_layers[i+1])\n",
    "            self.bias.append(np.zeros(1, hidden_layers[i+1]))\n",
    "        \n",
    "        #Hidden layers network to output\n",
    "        self.weights.append(0.01 * np.random.rand(len(hidden_layers)-1, output_size))\n",
    "        self.bias.append(np.zeros(1,output_size))\n",
    "\n",
    "\n",
    "    def forward(self, inputs):\n",
    "        layers = [inputs]\n",
    "        for i in range(len(self.weights)):\n",
    "            layers.append(np.dot(layers[-1],self.weights[i] + self.bias[i]))\n",
    "        return layers[-1]\n"
   ]
  },
  {
   "cell_type": "code",
   "execution_count": null,
   "metadata": {},
   "outputs": [],
   "source": []
  }
 ],
 "metadata": {
  "kernelspec": {
   "display_name": "Python 3",
   "language": "python",
   "name": "python3"
  },
  "language_info": {
   "codemirror_mode": {
    "name": "ipython",
    "version": 3
   },
   "file_extension": ".py",
   "mimetype": "text/x-python",
   "name": "python",
   "nbconvert_exporter": "python",
   "pygments_lexer": "ipython3",
   "version": "3.8.10"
  }
 },
 "nbformat": 4,
 "nbformat_minor": 2
}
